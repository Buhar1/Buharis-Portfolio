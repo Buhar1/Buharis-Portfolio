{
 "cells": [
  {
   "cell_type": "markdown",
   "id": "1628789e-1672-4064-9e38-b2284a1740b6",
   "metadata": {},
   "source": [
    "Charles Bukowski Poetry Generator\n",
    "\n",
    "Description: A generative model trained on poetry written by Charles Bukowski, that generates short-form poetry based on keywords from user input."
   ]
  },
  {
   "cell_type": "code",
   "execution_count": 1,
   "id": "8d12c436-8dee-439c-8d75-4040f666d9da",
   "metadata": {},
   "outputs": [],
   "source": [
    "import numpy as np\n",
    "import pandas as pd\n",
    "import tensorflow as tf\n",
    "from tensorflow.keras.models import Sequential\n",
    "from tensorflow.keras.layers import Embedding, LSTM, Dense, Dropout\n",
    "from tensorflow.keras.utils import to_categorical\n",
    "from tensorflow.keras.preprocessing.text import Tokenizer\n",
    "from tensorflow.keras.preprocessing.sequence import pad_sequences\n",
    "import nltk\n",
    "import re\n",
    "import random"
   ]
  },
  {
   "cell_type": "code",
   "execution_count": 2,
   "id": "592c3c30-4a53-4716-a70e-cf27492347c7",
   "metadata": {},
   "outputs": [
    {
     "name": "stdout",
     "output_type": "stream",
     "text": [
      "Read Test:\n",
      "\n",
      "Total Characters: 48026\n",
      "\n",
      "Text from file:\n",
      "\n",
      "a 340 dollar horse and a hundred dollar whore\n",
      "\n",
      "\n",
      "don’t ever get the idea I am a poet; you can see me\n",
      "\n",
      "at the racetrack any day half drunk\n",
      "\n",
      "betting quarters, sidewheelers and straight thoroughs,\n",
      "\n",
      "but let me tell you, there are some women there\n",
      "\n",
      "who go where the money goes, and sometimes when you\n",
      "\n",
      "look at these whores these onehundreddollar whores\n",
      "\n",
      "you wonder sometimes if nature isn’t playing a joke\n",
      "\n",
      "dealing out so much breast and ass and the way\n",
      "\n",
      "it’s all hung together, you look and you look and\n",
      "\n",
      "\n"
     ]
    }
   ],
   "source": [
    "with open('bukowski_poems.txt', 'r', encoding='utf-8') as f:\n",
    "    raw_txt=f.read()\n",
    "\n",
    "print(f\"Read Test:\\n\\nTotal Characters: {len(raw_txt)}\\n\\nText from file:\\n\\n{raw_txt[:500]}\")\n",
    "\n"
   ]
  },
  {
   "cell_type": "code",
   "execution_count": 3,
   "id": "ac720aee-f609-489f-b4ba-bd026e6daa14",
   "metadata": {},
   "outputs": [
    {
     "name": "stdout",
     "output_type": "stream",
     "text": [
      "Cleaned Data:\n",
      "\n",
      "a  dollar horse and a hundred dollar whore\n",
      "\n",
      "\n",
      "don’t ever get the idea i am a poet; you can see me\n",
      "\n",
      "at the racetrack any day half drunk\n",
      "\n",
      "betting quarters, sidewheelers and straight thoroughs,\n",
      "\n",
      "but let me tell you, there are some women there\n",
      "\n",
      "who go where the money goes, and sometimes when you\n",
      "\n",
      "look at these whores these onehundreddollar whores\n",
      "\n",
      "you wonder sometimes if nature isn’t playing a joke\n",
      "\n",
      "dealing out so much breast and ass and the way\n",
      "\n",
      "it’s all hung together, you look and you look and\n",
      "\n",
      "you\n"
     ]
    }
   ],
   "source": [
    "clean_txt=raw_txt.lower()\n",
    "clean_txt=re.sub(r'\\d+', '', clean_txt)\n",
    "print(f\"Cleaned Data:\\n\\n{clean_txt[:500]}\")\n",
    "fully_clean_txt=clean_txt"
   ]
  },
  {
   "cell_type": "code",
   "execution_count": 4,
   "id": "4dd1420f-6735-420d-a902-d491d4f5e8af",
   "metadata": {},
   "outputs": [
    {
     "name": "stdout",
     "output_type": "stream",
     "text": [
      "Size of Vocabulary:2008\n",
      "[('<unknown>', 1), ('the', 2), ('and', 3), ('i', 4), ('a', 5), ('to', 6), ('in', 7), ('of', 8), ('you', 9), ('he', 10), ('that', 11), ('they', 12), ('was', 13), ('it', 14), ('on', 15), ('with', 16), ('said', 17), ('but', 18), ('my', 19), ('not', 20)]\n"
     ]
    }
   ],
   "source": [
    "tokenizer= Tokenizer(num_words=None, oov_token=\"<unknown>\")\n",
    "tokenizer.fit_on_texts([fully_clean_txt])\n",
    "word_index=tokenizer.word_index\n",
    "index_word={index: word for word, index in word_index.items()}\n",
    "\n",
    "size_of_vocab=len(word_index) +1\n",
    "print(f\"Size of Vocabulary:{size_of_vocab}\")\n",
    "print(list(word_index.items())[:20])\n"
   ]
  },
  {
   "cell_type": "code",
   "execution_count": 5,
   "id": "41038a7f-6943-4281-af56-e173c4796d98",
   "metadata": {},
   "outputs": [
    {
     "name": "stdout",
     "output_type": "stream",
     "text": [
      "Total Tokens: 9092\n",
      "[5, 384, 527, 3, 5, 241, 384, 290, 80, 291, 66, 2, 831, 4, 145, 5, 146, 9, 81, 59]\n"
     ]
    }
   ],
   "source": [
    "id_sequence=tokenizer.texts_to_sequences([fully_clean_txt])[0]\n",
    "print(f\"Total Tokens: {len(id_sequence)}\")\n",
    "print(id_sequence[:20])"
   ]
  },
  {
   "cell_type": "code",
   "execution_count": 6,
   "id": "91abdcbb-3af4-4ae4-9f5b-34121f07533a",
   "metadata": {},
   "outputs": [
    {
     "name": "stdout",
     "output_type": "stream",
     "text": [
      "Number of pairs created: 9052\n",
      "Input Sequence Test: [5, 384, 527, 3, 5]\n",
      "Target Word ID Test: 24\n",
      "Target Word Test: are\n"
     ]
    }
   ],
   "source": [
    "len_of_seq=40\n",
    "input_seqs=[]\n",
    "targ_wds=[]\n",
    "\n",
    "for i in range(len(id_sequence)-len_of_seq):\n",
    "    seq_input=id_sequence[i: i+len_of_seq]\n",
    "    targ_wd=id_sequence[i+len_of_seq]\n",
    "    input_seqs.append(seq_input)\n",
    "    targ_wds.append(targ_wd)\n",
    "\n",
    "print(f\"Number of pairs created: {len(input_seqs)}\")\n",
    "print(f\"Input Sequence Test: {input_seqs[0][:5]}\")\n",
    "print(f\"Target Word ID Test: {targ_wds[0]}\")\n",
    "print(f\"Target Word Test: {index_word[targ_wds[0]]}\")\n",
    "\n",
    "    \n",
    "    "
   ]
  },
  {
   "cell_type": "code",
   "execution_count": 7,
   "id": "2d4f4e67-2c39-4f18-8182-5582bffcfbfd",
   "metadata": {},
   "outputs": [],
   "source": [
    "padded_input_seqs=pad_sequences(input_seqs, padding='pre', maxlen=len_of_seq)"
   ]
  },
  {
   "cell_type": "code",
   "execution_count": 8,
   "id": "5a41f9ea-7993-473e-b046-69049b8c0612",
   "metadata": {},
   "outputs": [
    {
     "name": "stdout",
     "output_type": "stream",
     "text": [
      "X Shape: (9052, 40) \n",
      " Y Shape(9052, 2008) \n",
      "Vocab Size: 2008\n"
     ]
    }
   ],
   "source": [
    "from tensorflow.keras.utils import to_categorical\n",
    "x=np.array(padded_input_seqs)\n",
    "y=to_categorical(targ_wds, num_classes=size_of_vocab)\n",
    "\n",
    "x=tf.cast(x, tf.int32)\n",
    "y=tf.cast(y, tf.float32)\n",
    "\n",
    "print(f\"X Shape: {x.shape} \\n Y Shape{y.shape} \\nVocab Size: {size_of_vocab}\")"
   ]
  },
  {
   "cell_type": "markdown",
   "id": "9bbdf86d-10d0-4323-8fa9-f0838a4b2279",
   "metadata": {},
   "source": [
    "Model Component"
   ]
  },
  {
   "cell_type": "code",
   "execution_count": 9,
   "id": "f5096a4e-ad07-4541-8994-6760e3a29218",
   "metadata": {},
   "outputs": [
    {
     "name": "stderr",
     "output_type": "stream",
     "text": [
      "C:\\Users\\Abdulaziz\\miniconda3\\envs\\poetry_writer\\lib\\site-packages\\keras\\src\\layers\\core\\embedding.py:97: UserWarning: Argument `input_length` is deprecated. Just remove it.\n",
      "  warnings.warn(\n"
     ]
    }
   ],
   "source": [
    "size_of_batch=120\n",
    "lstm_units=260\n",
    "epoch_num=60\n",
    "embedding_dimension=100\n",
    "drop_rate=0.3\n",
    "\n",
    "model=Sequential([\n",
    "    Embedding(input_dim=size_of_vocab, output_dim=embedding_dimension, input_length=len_of_seq),\n",
    "\n",
    "    LSTM(lstm_units, return_sequences=True),\n",
    "    \n",
    "    Dropout(drop_rate),\n",
    "\n",
    "    \n",
    "    LSTM(lstm_units),\n",
    "    \n",
    "    Dropout(drop_rate),\n",
    "\n",
    "\n",
    "    Dense(size_of_vocab, activation='softmax')\n",
    "])"
   ]
  },
  {
   "cell_type": "code",
   "execution_count": 10,
   "id": "08ce0b87-b38e-4a39-85ff-f3d5b3fb91a3",
   "metadata": {},
   "outputs": [
    {
     "data": {
      "text/html": [
       "<pre style=\"white-space:pre;overflow-x:auto;line-height:normal;font-family:Menlo,'DejaVu Sans Mono',consolas,'Courier New',monospace\"><span style=\"font-weight: bold\">Model: \"sequential\"</span>\n",
       "</pre>\n"
      ],
      "text/plain": [
       "\u001b[1mModel: \"sequential\"\u001b[0m\n"
      ]
     },
     "metadata": {},
     "output_type": "display_data"
    },
    {
     "data": {
      "text/html": [
       "<pre style=\"white-space:pre;overflow-x:auto;line-height:normal;font-family:Menlo,'DejaVu Sans Mono',consolas,'Courier New',monospace\">┏━━━━━━━━━━━━━━━━━━━━━━━━━━━━━━━━━━━━━━┳━━━━━━━━━━━━━━━━━━━━━━━━━━━━━┳━━━━━━━━━━━━━━━━━┓\n",
       "┃<span style=\"font-weight: bold\"> Layer (type)                         </span>┃<span style=\"font-weight: bold\"> Output Shape                </span>┃<span style=\"font-weight: bold\">         Param # </span>┃\n",
       "┡━━━━━━━━━━━━━━━━━━━━━━━━━━━━━━━━━━━━━━╇━━━━━━━━━━━━━━━━━━━━━━━━━━━━━╇━━━━━━━━━━━━━━━━━┩\n",
       "│ embedding (<span style=\"color: #0087ff; text-decoration-color: #0087ff\">Embedding</span>)                │ ?                           │     <span style=\"color: #00af00; text-decoration-color: #00af00\">0</span> (unbuilt) │\n",
       "├──────────────────────────────────────┼─────────────────────────────┼─────────────────┤\n",
       "│ lstm (<span style=\"color: #0087ff; text-decoration-color: #0087ff\">LSTM</span>)                          │ ?                           │     <span style=\"color: #00af00; text-decoration-color: #00af00\">0</span> (unbuilt) │\n",
       "├──────────────────────────────────────┼─────────────────────────────┼─────────────────┤\n",
       "│ dropout (<span style=\"color: #0087ff; text-decoration-color: #0087ff\">Dropout</span>)                    │ ?                           │               <span style=\"color: #00af00; text-decoration-color: #00af00\">0</span> │\n",
       "├──────────────────────────────────────┼─────────────────────────────┼─────────────────┤\n",
       "│ lstm_1 (<span style=\"color: #0087ff; text-decoration-color: #0087ff\">LSTM</span>)                        │ ?                           │     <span style=\"color: #00af00; text-decoration-color: #00af00\">0</span> (unbuilt) │\n",
       "├──────────────────────────────────────┼─────────────────────────────┼─────────────────┤\n",
       "│ dropout_1 (<span style=\"color: #0087ff; text-decoration-color: #0087ff\">Dropout</span>)                  │ ?                           │               <span style=\"color: #00af00; text-decoration-color: #00af00\">0</span> │\n",
       "├──────────────────────────────────────┼─────────────────────────────┼─────────────────┤\n",
       "│ dense (<span style=\"color: #0087ff; text-decoration-color: #0087ff\">Dense</span>)                        │ ?                           │     <span style=\"color: #00af00; text-decoration-color: #00af00\">0</span> (unbuilt) │\n",
       "└──────────────────────────────────────┴─────────────────────────────┴─────────────────┘\n",
       "</pre>\n"
      ],
      "text/plain": [
       "┏━━━━━━━━━━━━━━━━━━━━━━━━━━━━━━━━━━━━━━┳━━━━━━━━━━━━━━━━━━━━━━━━━━━━━┳━━━━━━━━━━━━━━━━━┓\n",
       "┃\u001b[1m \u001b[0m\u001b[1mLayer (type)                        \u001b[0m\u001b[1m \u001b[0m┃\u001b[1m \u001b[0m\u001b[1mOutput Shape               \u001b[0m\u001b[1m \u001b[0m┃\u001b[1m \u001b[0m\u001b[1m        Param #\u001b[0m\u001b[1m \u001b[0m┃\n",
       "┡━━━━━━━━━━━━━━━━━━━━━━━━━━━━━━━━━━━━━━╇━━━━━━━━━━━━━━━━━━━━━━━━━━━━━╇━━━━━━━━━━━━━━━━━┩\n",
       "│ embedding (\u001b[38;5;33mEmbedding\u001b[0m)                │ ?                           │     \u001b[38;5;34m0\u001b[0m (unbuilt) │\n",
       "├──────────────────────────────────────┼─────────────────────────────┼─────────────────┤\n",
       "│ lstm (\u001b[38;5;33mLSTM\u001b[0m)                          │ ?                           │     \u001b[38;5;34m0\u001b[0m (unbuilt) │\n",
       "├──────────────────────────────────────┼─────────────────────────────┼─────────────────┤\n",
       "│ dropout (\u001b[38;5;33mDropout\u001b[0m)                    │ ?                           │               \u001b[38;5;34m0\u001b[0m │\n",
       "├──────────────────────────────────────┼─────────────────────────────┼─────────────────┤\n",
       "│ lstm_1 (\u001b[38;5;33mLSTM\u001b[0m)                        │ ?                           │     \u001b[38;5;34m0\u001b[0m (unbuilt) │\n",
       "├──────────────────────────────────────┼─────────────────────────────┼─────────────────┤\n",
       "│ dropout_1 (\u001b[38;5;33mDropout\u001b[0m)                  │ ?                           │               \u001b[38;5;34m0\u001b[0m │\n",
       "├──────────────────────────────────────┼─────────────────────────────┼─────────────────┤\n",
       "│ dense (\u001b[38;5;33mDense\u001b[0m)                        │ ?                           │     \u001b[38;5;34m0\u001b[0m (unbuilt) │\n",
       "└──────────────────────────────────────┴─────────────────────────────┴─────────────────┘\n"
      ]
     },
     "metadata": {},
     "output_type": "display_data"
    },
    {
     "data": {
      "text/html": [
       "<pre style=\"white-space:pre;overflow-x:auto;line-height:normal;font-family:Menlo,'DejaVu Sans Mono',consolas,'Courier New',monospace\"><span style=\"font-weight: bold\"> Total params: </span><span style=\"color: #00af00; text-decoration-color: #00af00\">0</span> (0.00 B)\n",
       "</pre>\n"
      ],
      "text/plain": [
       "\u001b[1m Total params: \u001b[0m\u001b[38;5;34m0\u001b[0m (0.00 B)\n"
      ]
     },
     "metadata": {},
     "output_type": "display_data"
    },
    {
     "data": {
      "text/html": [
       "<pre style=\"white-space:pre;overflow-x:auto;line-height:normal;font-family:Menlo,'DejaVu Sans Mono',consolas,'Courier New',monospace\"><span style=\"font-weight: bold\"> Trainable params: </span><span style=\"color: #00af00; text-decoration-color: #00af00\">0</span> (0.00 B)\n",
       "</pre>\n"
      ],
      "text/plain": [
       "\u001b[1m Trainable params: \u001b[0m\u001b[38;5;34m0\u001b[0m (0.00 B)\n"
      ]
     },
     "metadata": {},
     "output_type": "display_data"
    },
    {
     "data": {
      "text/html": [
       "<pre style=\"white-space:pre;overflow-x:auto;line-height:normal;font-family:Menlo,'DejaVu Sans Mono',consolas,'Courier New',monospace\"><span style=\"font-weight: bold\"> Non-trainable params: </span><span style=\"color: #00af00; text-decoration-color: #00af00\">0</span> (0.00 B)\n",
       "</pre>\n"
      ],
      "text/plain": [
       "\u001b[1m Non-trainable params: \u001b[0m\u001b[38;5;34m0\u001b[0m (0.00 B)\n"
      ]
     },
     "metadata": {},
     "output_type": "display_data"
    }
   ],
   "source": [
    "model.compile(loss=\"categorical_crossentropy\",\n",
    "              optimizer=\"adam\", metrics=[\"accuracy\"]\n",
    ")\n",
    "\n",
    "model.summary()"
   ]
  },
  {
   "cell_type": "code",
   "execution_count": 11,
   "id": "79f02650-b1a9-431e-895d-806b24597ac0",
   "metadata": {},
   "outputs": [
    {
     "name": "stdout",
     "output_type": "stream",
     "text": [
      "Epoch 1/60\n",
      "\u001b[1m76/76\u001b[0m \u001b[32m━━━━━━━━━━━━━━━━━━━━\u001b[0m\u001b[37m\u001b[0m \u001b[1m148s\u001b[0m 2s/step - accuracy: 0.0492 - loss: 6.8759\n",
      "Epoch 2/60\n",
      "\u001b[1m76/76\u001b[0m \u001b[32m━━━━━━━━━━━━━━━━━━━━\u001b[0m\u001b[37m\u001b[0m \u001b[1m137s\u001b[0m 2s/step - accuracy: 0.0521 - loss: 6.2022\n",
      "Epoch 3/60\n",
      "\u001b[1m76/76\u001b[0m \u001b[32m━━━━━━━━━━━━━━━━━━━━\u001b[0m\u001b[37m\u001b[0m \u001b[1m142s\u001b[0m 2s/step - accuracy: 0.0544 - loss: 6.0926\n",
      "Epoch 4/60\n",
      "\u001b[1m76/76\u001b[0m \u001b[32m━━━━━━━━━━━━━━━━━━━━\u001b[0m\u001b[37m\u001b[0m \u001b[1m131s\u001b[0m 2s/step - accuracy: 0.0616 - loss: 5.9783\n",
      "Epoch 5/60\n",
      "\u001b[1m76/76\u001b[0m \u001b[32m━━━━━━━━━━━━━━━━━━━━\u001b[0m\u001b[37m\u001b[0m \u001b[1m141s\u001b[0m 2s/step - accuracy: 0.0683 - loss: 5.9285\n",
      "Epoch 6/60\n",
      "\u001b[1m76/76\u001b[0m \u001b[32m━━━━━━━━━━━━━━━━━━━━\u001b[0m\u001b[37m\u001b[0m \u001b[1m142s\u001b[0m 2s/step - accuracy: 0.0747 - loss: 5.8539\n",
      "Epoch 7/60\n",
      "\u001b[1m76/76\u001b[0m \u001b[32m━━━━━━━━━━━━━━━━━━━━\u001b[0m\u001b[37m\u001b[0m \u001b[1m152s\u001b[0m 2s/step - accuracy: 0.0773 - loss: 5.7559\n",
      "Epoch 8/60\n",
      "\u001b[1m76/76\u001b[0m \u001b[32m━━━━━━━━━━━━━━━━━━━━\u001b[0m\u001b[37m\u001b[0m \u001b[1m157s\u001b[0m 2s/step - accuracy: 0.0690 - loss: 5.7062\n",
      "Epoch 9/60\n",
      "\u001b[1m76/76\u001b[0m \u001b[32m━━━━━━━━━━━━━━━━━━━━\u001b[0m\u001b[37m\u001b[0m \u001b[1m178s\u001b[0m 2s/step - accuracy: 0.0828 - loss: 5.6471\n",
      "Epoch 10/60\n",
      "\u001b[1m76/76\u001b[0m \u001b[32m━━━━━━━━━━━━━━━━━━━━\u001b[0m\u001b[37m\u001b[0m \u001b[1m141s\u001b[0m 2s/step - accuracy: 0.0774 - loss: 5.5331\n",
      "Epoch 11/60\n",
      "\u001b[1m76/76\u001b[0m \u001b[32m━━━━━━━━━━━━━━━━━━━━\u001b[0m\u001b[37m\u001b[0m \u001b[1m144s\u001b[0m 2s/step - accuracy: 0.0816 - loss: 5.4617\n",
      "Epoch 12/60\n",
      "\u001b[1m76/76\u001b[0m \u001b[32m━━━━━━━━━━━━━━━━━━━━\u001b[0m\u001b[37m\u001b[0m \u001b[1m155s\u001b[0m 2s/step - accuracy: 0.0842 - loss: 5.3926\n",
      "Epoch 13/60\n",
      "\u001b[1m76/76\u001b[0m \u001b[32m━━━━━━━━━━━━━━━━━━━━\u001b[0m\u001b[37m\u001b[0m \u001b[1m1798s\u001b[0m 24s/step - accuracy: 0.0875 - loss: 5.2775\n",
      "Epoch 14/60\n",
      "\u001b[1m76/76\u001b[0m \u001b[32m━━━━━━━━━━━━━━━━━━━━\u001b[0m\u001b[37m\u001b[0m \u001b[1m184s\u001b[0m 2s/step - accuracy: 0.0901 - loss: 5.2105\n",
      "Epoch 15/60\n",
      "\u001b[1m76/76\u001b[0m \u001b[32m━━━━━━━━━━━━━━━━━━━━\u001b[0m\u001b[37m\u001b[0m \u001b[1m140s\u001b[0m 2s/step - accuracy: 0.0866 - loss: 5.1711\n",
      "Epoch 16/60\n",
      "\u001b[1m76/76\u001b[0m \u001b[32m━━━━━━━━━━━━━━━━━━━━\u001b[0m\u001b[37m\u001b[0m \u001b[1m139s\u001b[0m 2s/step - accuracy: 0.0908 - loss: 5.0905\n",
      "Epoch 17/60\n",
      "\u001b[1m76/76\u001b[0m \u001b[32m━━━━━━━━━━━━━━━━━━━━\u001b[0m\u001b[37m\u001b[0m \u001b[1m131s\u001b[0m 2s/step - accuracy: 0.0911 - loss: 5.0579\n",
      "Epoch 18/60\n",
      "\u001b[1m76/76\u001b[0m \u001b[32m━━━━━━━━━━━━━━━━━━━━\u001b[0m\u001b[37m\u001b[0m \u001b[1m141s\u001b[0m 2s/step - accuracy: 0.0973 - loss: 4.9393\n",
      "Epoch 19/60\n",
      "\u001b[1m76/76\u001b[0m \u001b[32m━━━━━━━━━━━━━━━━━━━━\u001b[0m\u001b[37m\u001b[0m \u001b[1m142s\u001b[0m 2s/step - accuracy: 0.0928 - loss: 4.9120\n",
      "Epoch 20/60\n",
      "\u001b[1m76/76\u001b[0m \u001b[32m━━━━━━━━━━━━━━━━━━━━\u001b[0m\u001b[37m\u001b[0m \u001b[1m142s\u001b[0m 2s/step - accuracy: 0.0925 - loss: 4.8681\n",
      "Epoch 21/60\n",
      "\u001b[1m76/76\u001b[0m \u001b[32m━━━━━━━━━━━━━━━━━━━━\u001b[0m\u001b[37m\u001b[0m \u001b[1m1765s\u001b[0m 23s/step - accuracy: 0.0950 - loss: 4.8078\n",
      "Epoch 22/60\n",
      "\u001b[1m76/76\u001b[0m \u001b[32m━━━━━━━━━━━━━━━━━━━━\u001b[0m\u001b[37m\u001b[0m \u001b[1m189s\u001b[0m 2s/step - accuracy: 0.0967 - loss: 4.7857\n",
      "Epoch 23/60\n",
      "\u001b[1m76/76\u001b[0m \u001b[32m━━━━━━━━━━━━━━━━━━━━\u001b[0m\u001b[37m\u001b[0m \u001b[1m132s\u001b[0m 2s/step - accuracy: 0.1036 - loss: 4.7027\n",
      "Epoch 24/60\n",
      "\u001b[1m76/76\u001b[0m \u001b[32m━━━━━━━━━━━━━━━━━━━━\u001b[0m\u001b[37m\u001b[0m \u001b[1m387s\u001b[0m 5s/step - accuracy: 0.1116 - loss: 4.6295\n",
      "Epoch 25/60\n",
      "\u001b[1m76/76\u001b[0m \u001b[32m━━━━━━━━━━━━━━━━━━━━\u001b[0m\u001b[37m\u001b[0m \u001b[1m195s\u001b[0m 2s/step - accuracy: 0.1153 - loss: 4.6063\n",
      "Epoch 26/60\n",
      "\u001b[1m76/76\u001b[0m \u001b[32m━━━━━━━━━━━━━━━━━━━━\u001b[0m\u001b[37m\u001b[0m \u001b[1m199s\u001b[0m 2s/step - accuracy: 0.1135 - loss: 4.5584\n",
      "Epoch 27/60\n",
      "\u001b[1m76/76\u001b[0m \u001b[32m━━━━━━━━━━━━━━━━━━━━\u001b[0m\u001b[37m\u001b[0m \u001b[1m200s\u001b[0m 2s/step - accuracy: 0.1162 - loss: 4.4843\n",
      "Epoch 28/60\n",
      "\u001b[1m76/76\u001b[0m \u001b[32m━━━━━━━━━━━━━━━━━━━━\u001b[0m\u001b[37m\u001b[0m \u001b[1m243s\u001b[0m 2s/step - accuracy: 0.1195 - loss: 4.4696\n",
      "Epoch 29/60\n",
      "\u001b[1m76/76\u001b[0m \u001b[32m━━━━━━━━━━━━━━━━━━━━\u001b[0m\u001b[37m\u001b[0m \u001b[1m198s\u001b[0m 2s/step - accuracy: 0.1256 - loss: 4.3590\n",
      "Epoch 30/60\n",
      "\u001b[1m76/76\u001b[0m \u001b[32m━━━━━━━━━━━━━━━━━━━━\u001b[0m\u001b[37m\u001b[0m \u001b[1m172s\u001b[0m 2s/step - accuracy: 0.1359 - loss: 4.2782\n",
      "Epoch 31/60\n",
      "\u001b[1m76/76\u001b[0m \u001b[32m━━━━━━━━━━━━━━━━━━━━\u001b[0m\u001b[37m\u001b[0m \u001b[1m139s\u001b[0m 2s/step - accuracy: 0.1417 - loss: 4.2185\n",
      "Epoch 32/60\n",
      "\u001b[1m76/76\u001b[0m \u001b[32m━━━━━━━━━━━━━━━━━━━━\u001b[0m\u001b[37m\u001b[0m \u001b[1m156s\u001b[0m 2s/step - accuracy: 0.1436 - loss: 4.1452\n",
      "Epoch 33/60\n",
      "\u001b[1m76/76\u001b[0m \u001b[32m━━━━━━━━━━━━━━━━━━━━\u001b[0m\u001b[37m\u001b[0m \u001b[1m139s\u001b[0m 2s/step - accuracy: 0.1425 - loss: 4.2296\n",
      "Epoch 34/60\n",
      "\u001b[1m76/76\u001b[0m \u001b[32m━━━━━━━━━━━━━━━━━━━━\u001b[0m\u001b[37m\u001b[0m \u001b[1m142s\u001b[0m 2s/step - accuracy: 0.1152 - loss: 4.7813\n",
      "Epoch 35/60\n",
      "\u001b[1m76/76\u001b[0m \u001b[32m━━━━━━━━━━━━━━━━━━━━\u001b[0m\u001b[37m\u001b[0m \u001b[1m139s\u001b[0m 2s/step - accuracy: 0.1191 - loss: 4.5704\n",
      "Epoch 36/60\n",
      "\u001b[1m76/76\u001b[0m \u001b[32m━━━━━━━━━━━━━━━━━━━━\u001b[0m\u001b[37m\u001b[0m \u001b[1m143s\u001b[0m 2s/step - accuracy: 0.1294 - loss: 4.4271\n",
      "Epoch 37/60\n",
      "\u001b[1m76/76\u001b[0m \u001b[32m━━━━━━━━━━━━━━━━━━━━\u001b[0m\u001b[37m\u001b[0m \u001b[1m146s\u001b[0m 2s/step - accuracy: 0.1356 - loss: 4.2961\n",
      "Epoch 38/60\n",
      "\u001b[1m76/76\u001b[0m \u001b[32m━━━━━━━━━━━━━━━━━━━━\u001b[0m\u001b[37m\u001b[0m \u001b[1m434s\u001b[0m 6s/step - accuracy: 0.1498 - loss: 4.1743\n",
      "Epoch 39/60\n",
      "\u001b[1m76/76\u001b[0m \u001b[32m━━━━━━━━━━━━━━━━━━━━\u001b[0m\u001b[37m\u001b[0m \u001b[1m188s\u001b[0m 2s/step - accuracy: 0.1581 - loss: 4.0540\n",
      "Epoch 40/60\n",
      "\u001b[1m76/76\u001b[0m \u001b[32m━━━━━━━━━━━━━━━━━━━━\u001b[0m\u001b[37m\u001b[0m \u001b[1m137s\u001b[0m 2s/step - accuracy: 0.1707 - loss: 3.9360\n",
      "Epoch 41/60\n",
      "\u001b[1m76/76\u001b[0m \u001b[32m━━━━━━━━━━━━━━━━━━━━\u001b[0m\u001b[37m\u001b[0m \u001b[1m137s\u001b[0m 2s/step - accuracy: 0.1927 - loss: 3.8381\n",
      "Epoch 42/60\n",
      "\u001b[1m76/76\u001b[0m \u001b[32m━━━━━━━━━━━━━━━━━━━━\u001b[0m\u001b[37m\u001b[0m \u001b[1m148s\u001b[0m 2s/step - accuracy: 0.1984 - loss: 3.7602\n",
      "Epoch 43/60\n",
      "\u001b[1m76/76\u001b[0m \u001b[32m━━━━━━━━━━━━━━━━━━━━\u001b[0m\u001b[37m\u001b[0m \u001b[1m147s\u001b[0m 2s/step - accuracy: 0.2093 - loss: 3.6740\n",
      "Epoch 44/60\n",
      "\u001b[1m76/76\u001b[0m \u001b[32m━━━━━━━━━━━━━━━━━━━━\u001b[0m\u001b[37m\u001b[0m \u001b[1m2994s\u001b[0m 40s/step - accuracy: 0.2288 - loss: 3.5694\n",
      "Epoch 45/60\n",
      "\u001b[1m76/76\u001b[0m \u001b[32m━━━━━━━━━━━━━━━━━━━━\u001b[0m\u001b[37m\u001b[0m \u001b[1m7403s\u001b[0m 99s/step - accuracy: 0.2491 - loss: 3.4354\n",
      "Epoch 46/60\n",
      "\u001b[1m76/76\u001b[0m \u001b[32m━━━━━━━━━━━━━━━━━━━━\u001b[0m\u001b[37m\u001b[0m \u001b[1m184s\u001b[0m 2s/step - accuracy: 0.2637 - loss: 3.3691\n",
      "Epoch 47/60\n",
      "\u001b[1m76/76\u001b[0m \u001b[32m━━━━━━━━━━━━━━━━━━━━\u001b[0m\u001b[37m\u001b[0m \u001b[1m140s\u001b[0m 2s/step - accuracy: 0.2790 - loss: 3.2869\n",
      "Epoch 48/60\n",
      "\u001b[1m76/76\u001b[0m \u001b[32m━━━━━━━━━━━━━━━━━━━━\u001b[0m\u001b[37m\u001b[0m \u001b[1m143s\u001b[0m 2s/step - accuracy: 0.2879 - loss: 3.2027\n",
      "Epoch 49/60\n",
      "\u001b[1m76/76\u001b[0m \u001b[32m━━━━━━━━━━━━━━━━━━━━\u001b[0m\u001b[37m\u001b[0m \u001b[1m139s\u001b[0m 2s/step - accuracy: 0.3151 - loss: 3.0960\n",
      "Epoch 50/60\n",
      "\u001b[1m76/76\u001b[0m \u001b[32m━━━━━━━━━━━━━━━━━━━━\u001b[0m\u001b[37m\u001b[0m \u001b[1m133s\u001b[0m 2s/step - accuracy: 0.3239 - loss: 3.0449\n",
      "Epoch 51/60\n",
      "\u001b[1m76/76\u001b[0m \u001b[32m━━━━━━━━━━━━━━━━━━━━\u001b[0m\u001b[37m\u001b[0m \u001b[1m144s\u001b[0m 2s/step - accuracy: 0.3599 - loss: 2.9254\n",
      "Epoch 52/60\n",
      "\u001b[1m76/76\u001b[0m \u001b[32m━━━━━━━━━━━━━━━━━━━━\u001b[0m\u001b[37m\u001b[0m \u001b[1m17451s\u001b[0m 232s/step - accuracy: 0.3658 - loss: 2.8634\n",
      "Epoch 53/60\n",
      "\u001b[1m76/76\u001b[0m \u001b[32m━━━━━━━━━━━━━━━━━━━━\u001b[0m\u001b[37m\u001b[0m \u001b[1m184s\u001b[0m 2s/step - accuracy: 0.3739 - loss: 2.7833\n",
      "Epoch 54/60\n",
      "\u001b[1m76/76\u001b[0m \u001b[32m━━━━━━━━━━━━━━━━━━━━\u001b[0m\u001b[37m\u001b[0m \u001b[1m142s\u001b[0m 2s/step - accuracy: 0.3897 - loss: 2.7080\n",
      "Epoch 55/60\n",
      "\u001b[1m76/76\u001b[0m \u001b[32m━━━━━━━━━━━━━━━━━━━━\u001b[0m\u001b[37m\u001b[0m \u001b[1m140s\u001b[0m 2s/step - accuracy: 0.3987 - loss: 2.6301\n",
      "Epoch 56/60\n",
      "\u001b[1m76/76\u001b[0m \u001b[32m━━━━━━━━━━━━━━━━━━━━\u001b[0m\u001b[37m\u001b[0m \u001b[1m137s\u001b[0m 2s/step - accuracy: 0.4208 - loss: 2.5767\n",
      "Epoch 57/60\n",
      "\u001b[1m76/76\u001b[0m \u001b[32m━━━━━━━━━━━━━━━━━━━━\u001b[0m\u001b[37m\u001b[0m \u001b[1m143s\u001b[0m 2s/step - accuracy: 0.4332 - loss: 2.5035\n",
      "Epoch 58/60\n",
      "\u001b[1m76/76\u001b[0m \u001b[32m━━━━━━━━━━━━━━━━━━━━\u001b[0m\u001b[37m\u001b[0m \u001b[1m141s\u001b[0m 2s/step - accuracy: 0.4546 - loss: 2.4079\n",
      "Epoch 59/60\n",
      "\u001b[1m76/76\u001b[0m \u001b[32m━━━━━━━━━━━━━━━━━━━━\u001b[0m\u001b[37m\u001b[0m \u001b[1m143s\u001b[0m 2s/step - accuracy: 0.4742 - loss: 2.3545\n",
      "Epoch 60/60\n",
      "\u001b[1m76/76\u001b[0m \u001b[32m━━━━━━━━━━━━━━━━━━━━\u001b[0m\u001b[37m\u001b[0m \u001b[1m141s\u001b[0m 2s/step - accuracy: 0.4682 - loss: 2.3118\n"
     ]
    }
   ],
   "source": [
    "history=model.fit(x,y, \n",
    "                  batch_size=size_of_batch, \n",
    "                  epochs=epoch_num, \n",
    "                  verbose=1)"
   ]
  },
  {
   "cell_type": "code",
   "execution_count": 12,
   "id": "ef5eaa0e-8692-4e85-968a-0404e94e5f5d",
   "metadata": {},
   "outputs": [
    {
     "name": "stdout",
     "output_type": "stream",
     "text": [
      "Save Location: 'my_poem_writer_model.keras'\n"
     ]
    }
   ],
   "source": [
    "\n",
    "model.save('my_poem_writer_model.keras')\n",
    "print(f\"Save Location: 'my_poem_writer_model.keras'\")"
   ]
  },
  {
   "cell_type": "code",
   "execution_count": 13,
   "id": "718b24ac-1884-4ebf-ab96-bec76809559d",
   "metadata": {},
   "outputs": [
    {
     "name": "stdout",
     "output_type": "stream",
     "text": [
      "Model loaded successfully from my_poem_writer_model.keras\n"
     ]
    }
   ],
   "source": [
    "from tensorflow.keras.models import load_model\n",
    "path_to_model='my_poem_writer_model.keras'\n",
    "\n",
    "try:\n",
    "    model_var=load_model(path_to_model)\n",
    "    print(f\"Model loaded successfully from {path_to_model}\")\n",
    "\n",
    "except Exception as e:\n",
    "    print(f\"Error encountered loading model: {e}\")\n",
    "except FileNotFoundError:\n",
    "    print(f\"File not found at {path_to_model}\")\n"
   ]
  },
  {
   "cell_type": "code",
   "execution_count": 21,
   "id": "9e99da56-cb15-4a24-b5a8-8cf35a17979d",
   "metadata": {},
   "outputs": [],
   "source": [
    "def write_poem(model, len_of_seq, tokenizer, seed_txt, words_to_generate):\n",
    "    write_poem=seed_txt\n",
    "    current_sequence=seed_txt\n",
    "\n",
    "    for _ in range(words_to_generate):\n",
    "        token_list=tokenizer.texts_to_sequences([current_sequence])[0]\n",
    "        \n",
    "        padded_token_list=pad_sequences([token_list], padding='pre', maxlen=len_of_seq)\n",
    "        \n",
    "        id_prediction=np.argmax(model.predict(padded_token_list, verbose=0))\n",
    "        \n",
    "        word_output=tokenizer.index_word.get(id_prediction, '')\n",
    "        \n",
    "        if word_output =='':\n",
    "            print(f\"Unknown ID predicted: {id_prediction}\\n Poem Generation has been canceled.\")\n",
    "            break\n",
    "            \n",
    "        write_poem +=\" \" +word_output\n",
    "            \n",
    "        current_sequence +=\" \" +word_output\n",
    "\n",
    "    return write_poem\n",
    "\n",
    "        "
   ]
  },
  {
   "cell_type": "code",
   "execution_count": 23,
   "id": "08353a1a-c8aa-474d-a060-9fb2542a7584",
   "metadata": {},
   "outputs": [
    {
     "ename": "NameError",
     "evalue": "name 'output_word' is not defined",
     "output_type": "error",
     "traceback": [
      "\u001b[1;31m---------------------------------------------------------------------------\u001b[0m",
      "\u001b[1;31mNameError\u001b[0m                                 Traceback (most recent call last)",
      "Cell \u001b[1;32mIn[23], line 4\u001b[0m\n\u001b[0;32m      1\u001b[0m seed_txt\u001b[38;5;241m=\u001b[39m \u001b[38;5;124m\"\u001b[39m\u001b[38;5;124mcold hands\u001b[39m\u001b[38;5;124m\"\u001b[39m\n\u001b[0;32m      2\u001b[0m words_to_generate\u001b[38;5;241m=\u001b[39m\u001b[38;5;241m100\u001b[39m\n\u001b[1;32m----> 4\u001b[0m poem_output\u001b[38;5;241m=\u001b[39m\u001b[43mwrite_poem\u001b[49m\u001b[43m(\u001b[49m\u001b[43mmodel_var\u001b[49m\u001b[43m,\u001b[49m\u001b[43m \u001b[49m\u001b[43mlen_of_seq\u001b[49m\u001b[43m,\u001b[49m\u001b[43m \u001b[49m\u001b[43mtokenizer\u001b[49m\u001b[43m,\u001b[49m\u001b[43m \u001b[49m\u001b[43mseed_txt\u001b[49m\u001b[43m,\u001b[49m\u001b[43m \u001b[49m\u001b[43mwords_to_generate\u001b[49m\u001b[43m)\u001b[49m\n\u001b[0;32m      6\u001b[0m \u001b[38;5;28mprint\u001b[39m(\u001b[38;5;124mf\u001b[39m\u001b[38;5;124m\"\u001b[39m\u001b[38;5;132;01m{\u001b[39;00mpoem_output\u001b[38;5;132;01m}\u001b[39;00m\u001b[38;5;124m \u001b[39m\u001b[38;5;130;01m\\n\u001b[39;00m\u001b[38;5;124m\"\u001b[39m)\n",
      "Cell \u001b[1;32mIn[21], line 14\u001b[0m, in \u001b[0;36mwrite_poem\u001b[1;34m(model, len_of_seq, tokenizer, seed_txt, words_to_generate)\u001b[0m\n\u001b[0;32m     10\u001b[0m id_prediction\u001b[38;5;241m=\u001b[39mnp\u001b[38;5;241m.\u001b[39margmax(model\u001b[38;5;241m.\u001b[39mpredict(padded_token_list, verbose\u001b[38;5;241m=\u001b[39m\u001b[38;5;241m0\u001b[39m))\n\u001b[0;32m     12\u001b[0m word_output\u001b[38;5;241m=\u001b[39mtokenizer\u001b[38;5;241m.\u001b[39mindex_word\u001b[38;5;241m.\u001b[39mget(id_prediction, \u001b[38;5;124m'\u001b[39m\u001b[38;5;124m'\u001b[39m)\n\u001b[1;32m---> 14\u001b[0m \u001b[38;5;28;01mif\u001b[39;00m \u001b[43moutput_word\u001b[49m \u001b[38;5;241m==\u001b[39m\u001b[38;5;124m'\u001b[39m\u001b[38;5;124m'\u001b[39m:\n\u001b[0;32m     15\u001b[0m     \u001b[38;5;28mprint\u001b[39m(\u001b[38;5;124mf\u001b[39m\u001b[38;5;124m\"\u001b[39m\u001b[38;5;124mUnknown ID predicted: \u001b[39m\u001b[38;5;132;01m{\u001b[39;00mid_prediction\u001b[38;5;132;01m}\u001b[39;00m\u001b[38;5;130;01m\\n\u001b[39;00m\u001b[38;5;124m Poem Generation has been canceled.\u001b[39m\u001b[38;5;124m\"\u001b[39m)\n\u001b[0;32m     16\u001b[0m     \u001b[38;5;28;01mbreak\u001b[39;00m\n",
      "\u001b[1;31mNameError\u001b[0m: name 'output_word' is not defined"
     ]
    }
   ],
   "source": [
    "seed_txt= \"cold hands\"\n",
    "words_to_generate=100\n",
    "\n",
    "poem_output=write_poem(model_var, len_of_seq, tokenizer, seed_txt, words_to_generate)\n",
    "\n",
    "print(f\"{poem_output} \\n\")"
   ]
  },
  {
   "cell_type": "code",
   "execution_count": null,
   "id": "825480f6-397f-4b02-9574-a28d254a9bcd",
   "metadata": {},
   "outputs": [],
   "source": []
  },
  {
   "cell_type": "code",
   "execution_count": null,
   "id": "7974af03-b734-47b3-8ef2-1d1dd16e65d4",
   "metadata": {},
   "outputs": [],
   "source": []
  }
 ],
 "metadata": {
  "kernelspec": {
   "display_name": "Python 3 (ipykernel)",
   "language": "python",
   "name": "python3"
  },
  "language_info": {
   "codemirror_mode": {
    "name": "ipython",
    "version": 3
   },
   "file_extension": ".py",
   "mimetype": "text/x-python",
   "name": "python",
   "nbconvert_exporter": "python",
   "pygments_lexer": "ipython3",
   "version": "3.9.23"
  }
 },
 "nbformat": 4,
 "nbformat_minor": 5
}
