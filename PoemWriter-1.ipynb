{
 "cells": [
  {
   "cell_type": "markdown",
   "id": "1628789e-1672-4064-9e38-b2284a1740b6",
   "metadata": {},
   "source": [
    "Charles Bukowski Poetry Generator\n",
    "\n",
    "Description: A generative model trained on poetry written by Charles Bukowski, that generates short-form poetry based on keywords from user input."
   ]
  },
  {
   "cell_type": "code",
   "execution_count": 1,
   "id": "8d12c436-8dee-439c-8d75-4040f666d9da",
   "metadata": {},
   "outputs": [],
   "source": [
    "import numpy as np\n",
    "import pandas as pd\n",
    "import tensorflow as tf\n",
    "from tensorflow.keras.models import Sequential\n",
    "from tensorflow.keras.layers import Embedding, LSTM, Dense, Dropout\n",
    "from tensorflow.keras.utils import to_categorical\n",
    "from tensorflow.keras.preprocessing.text import Tokenizer\n",
    "from tensorflow.keras.preprocessing.sequence import pad_sequences\n",
    "import nltk\n",
    "import re\n",
    "import random"
   ]
  },
  {
   "cell_type": "code",
   "execution_count": 2,
   "id": "592c3c30-4a53-4716-a70e-cf27492347c7",
   "metadata": {},
   "outputs": [
    {
     "name": "stdout",
     "output_type": "stream",
     "text": [
      "Read Test:\n",
      "\n",
      "Total Characters: 48026\n",
      "\n",
      "Text from file:\n",
      "\n",
      "a 340 dollar horse and a hundred dollar whore\n",
      "\n",
      "\n",
      "don’t ever get the idea I am a poet; you can see me\n",
      "\n",
      "at the racetrack any day half drunk\n",
      "\n",
      "betting quarters, sidewheelers and straight thoroughs,\n",
      "\n",
      "but let me tell you, there are some women there\n",
      "\n",
      "who go where the money goes, and sometimes when you\n",
      "\n",
      "look at these whores these onehundreddollar whores\n",
      "\n",
      "you wonder sometimes if nature isn’t playing a joke\n",
      "\n",
      "dealing out so much breast and ass and the way\n",
      "\n",
      "it’s all hung together, you look and you look and\n",
      "\n",
      "\n"
     ]
    }
   ],
   "source": [
    "with open('bukowski_poems.txt', 'r', encoding='utf-8') as f:\n",
    "    raw_txt=f.read()\n",
    "\n",
    "print(f\"Read Test:\\n\\nTotal Characters: {len(raw_txt)}\\n\\nText from file:\\n\\n{raw_txt[:500]}\")\n",
    "\n"
   ]
  },
  {
   "cell_type": "code",
   "execution_count": 3,
   "id": "ac720aee-f609-489f-b4ba-bd026e6daa14",
   "metadata": {},
   "outputs": [
    {
     "name": "stdout",
     "output_type": "stream",
     "text": [
      "Cleaned Data:\n",
      "\n",
      "a  dollar horse and a hundred dollar whore\n",
      "\n",
      "\n",
      "don’t ever get the idea i am a poet; you can see me\n",
      "\n",
      "at the racetrack any day half drunk\n",
      "\n",
      "betting quarters, sidewheelers and straight thoroughs,\n",
      "\n",
      "but let me tell you, there are some women there\n",
      "\n",
      "who go where the money goes, and sometimes when you\n",
      "\n",
      "look at these whores these onehundreddollar whores\n",
      "\n",
      "you wonder sometimes if nature isn’t playing a joke\n",
      "\n",
      "dealing out so much breast and ass and the way\n",
      "\n",
      "it’s all hung together, you look and you look and\n",
      "\n",
      "you\n"
     ]
    }
   ],
   "source": [
    "clean_txt=raw_txt.lower()\n",
    "clean_txt=re.sub(r'\\d+', '', clean_txt)\n",
    "print(f\"Cleaned Data:\\n\\n{clean_txt[:500]}\")\n",
    "fully_clean_txt=clean_txt"
   ]
  },
  {
   "cell_type": "code",
   "execution_count": 4,
   "id": "4dd1420f-6735-420d-a902-d491d4f5e8af",
   "metadata": {},
   "outputs": [
    {
     "name": "stdout",
     "output_type": "stream",
     "text": [
      "Size of Vocabulary:2008\n",
      "[('<unknown>', 1), ('the', 2), ('and', 3), ('i', 4), ('a', 5), ('to', 6), ('in', 7), ('of', 8), ('you', 9), ('he', 10), ('that', 11), ('they', 12), ('was', 13), ('it', 14), ('on', 15), ('with', 16), ('said', 17), ('but', 18), ('my', 19), ('not', 20)]\n"
     ]
    }
   ],
   "source": [
    "tokenizer= Tokenizer(num_words=None, oov_token=\"<unknown>\")\n",
    "tokenizer.fit_on_texts([fully_clean_txt])\n",
    "word_index=tokenizer.word_index\n",
    "index_word={index: word for word, index in word_index.items()}\n",
    "\n",
    "size_of_vocab=len(word_index) +1\n",
    "print(f\"Size of Vocabulary:{size_of_vocab}\")\n",
    "print(list(word_index.items())[:20])\n"
   ]
  },
  {
   "cell_type": "code",
   "execution_count": 5,
   "id": "41038a7f-6943-4281-af56-e173c4796d98",
   "metadata": {},
   "outputs": [
    {
     "name": "stdout",
     "output_type": "stream",
     "text": [
      "Total Tokens: 9092\n",
      "[5, 384, 527, 3, 5, 241, 384, 290, 80, 291, 66, 2, 831, 4, 145, 5, 146, 9, 81, 59]\n"
     ]
    }
   ],
   "source": [
    "id_sequence=tokenizer.texts_to_sequences([fully_clean_txt])[0]\n",
    "print(f\"Total Tokens: {len(id_sequence)}\")\n",
    "print(id_sequence[:20])"
   ]
  },
  {
   "cell_type": "code",
   "execution_count": 6,
   "id": "91abdcbb-3af4-4ae4-9f5b-34121f07533a",
   "metadata": {},
   "outputs": [
    {
     "name": "stdout",
     "output_type": "stream",
     "text": [
      "Number of pairs created: 9052\n",
      "Input Sequence Test: [5, 384, 527, 3, 5]\n",
      "Target Word ID Test: 24\n",
      "Target Word Test: are\n"
     ]
    }
   ],
   "source": [
    "len_of_seq=40\n",
    "input_seqs=[]\n",
    "targ_wds=[]\n",
    "\n",
    "for i in range(len(id_sequence)-len_of_seq):\n",
    "    seq_input=id_sequence[i: i+len_of_seq]\n",
    "    targ_wd=id_sequence[i+len_of_seq]\n",
    "    input_seqs.append(seq_input)\n",
    "    targ_wds.append(targ_wd)\n",
    "\n",
    "print(f\"Number of pairs created: {len(input_seqs)}\")\n",
    "print(f\"Input Sequence Test: {input_seqs[0][:5]}\")\n",
    "print(f\"Target Word ID Test: {targ_wds[0]}\")\n",
    "print(f\"Target Word Test: {index_word[targ_wds[0]]}\")\n",
    "\n",
    "    \n",
    "    "
   ]
  },
  {
   "cell_type": "code",
   "execution_count": 7,
   "id": "2d4f4e67-2c39-4f18-8182-5582bffcfbfd",
   "metadata": {},
   "outputs": [],
   "source": [
    "padded_input_seqs=pad_sequences(input_seqs, padding='pre', maxlen=len_of_seq)"
   ]
  },
  {
   "cell_type": "code",
   "execution_count": 19,
   "id": "5a41f9ea-7993-473e-b046-69049b8c0612",
   "metadata": {},
   "outputs": [
    {
     "name": "stdout",
     "output_type": "stream",
     "text": [
      "X Shape: (9052, 40) \n",
      " Y Shape(9052, 2008) \n",
      "Vocab Size: 2008\n"
     ]
    }
   ],
   "source": [
    "from tensorflow.keras.utils import to_categorical\n",
    "x=np.array(padded_input_seqs)\n",
    "y=to_categorical(targ_wds, num_classes=size_of_vocab)\n",
    "\n",
    "print(f\"X Shape: {x.shape} \\n Y Shape{y.shape} \\nVocab Size: {size_of_vocab}\")"
   ]
  },
  {
   "cell_type": "markdown",
   "id": "9bbdf86d-10d0-4323-8fa9-f0838a4b2279",
   "metadata": {},
   "source": [
    "Model Component"
   ]
  },
  {
   "cell_type": "code",
   "execution_count": 20,
   "id": "f5096a4e-ad07-4541-8994-6760e3a29218",
   "metadata": {},
   "outputs": [],
   "source": [
    "size_of_batch=120\n",
    "lstm_units=260\n",
    "epoch_num=60\n",
    "embedding_dimension=100\n",
    "drop_rate=0.3\n",
    "\n",
    "model=Sequential([\n",
    "    Embedding(input_dim=size_of_vocab, output_dim=embedding_dimension, input_length=len_of_seq),\n",
    "\n",
    "    LSTM(lstm_units, return_sequences=True),\n",
    "    \n",
    "    Dropout(drop_rate),\n",
    "\n",
    "    \n",
    "    LSTM(lstm_units),\n",
    "    \n",
    "    Dropout(drop_rate),\n",
    "\n",
    "\n",
    "    Dense(size_of_vocab, activation='softmax')\n",
    "])"
   ]
  },
  {
   "cell_type": "code",
   "execution_count": 21,
   "id": "08ce0b87-b38e-4a39-85ff-f3d5b3fb91a3",
   "metadata": {},
   "outputs": [
    {
     "data": {
      "text/html": [
       "<pre style=\"white-space:pre;overflow-x:auto;line-height:normal;font-family:Menlo,'DejaVu Sans Mono',consolas,'Courier New',monospace\"><span style=\"font-weight: bold\">Model: \"sequential_2\"</span>\n",
       "</pre>\n"
      ],
      "text/plain": [
       "\u001b[1mModel: \"sequential_2\"\u001b[0m\n"
      ]
     },
     "metadata": {},
     "output_type": "display_data"
    },
    {
     "data": {
      "text/html": [
       "<pre style=\"white-space:pre;overflow-x:auto;line-height:normal;font-family:Menlo,'DejaVu Sans Mono',consolas,'Courier New',monospace\">┏━━━━━━━━━━━━━━━━━━━━━━━━━━━━━━━━━━━━━━┳━━━━━━━━━━━━━━━━━━━━━━━━━━━━━┳━━━━━━━━━━━━━━━━━┓\n",
       "┃<span style=\"font-weight: bold\"> Layer (type)                         </span>┃<span style=\"font-weight: bold\"> Output Shape                </span>┃<span style=\"font-weight: bold\">         Param # </span>┃\n",
       "┡━━━━━━━━━━━━━━━━━━━━━━━━━━━━━━━━━━━━━━╇━━━━━━━━━━━━━━━━━━━━━━━━━━━━━╇━━━━━━━━━━━━━━━━━┩\n",
       "│ embedding_2 (<span style=\"color: #0087ff; text-decoration-color: #0087ff\">Embedding</span>)              │ ?                           │     <span style=\"color: #00af00; text-decoration-color: #00af00\">0</span> (unbuilt) │\n",
       "├──────────────────────────────────────┼─────────────────────────────┼─────────────────┤\n",
       "│ lstm_4 (<span style=\"color: #0087ff; text-decoration-color: #0087ff\">LSTM</span>)                        │ ?                           │     <span style=\"color: #00af00; text-decoration-color: #00af00\">0</span> (unbuilt) │\n",
       "├──────────────────────────────────────┼─────────────────────────────┼─────────────────┤\n",
       "│ dropout_4 (<span style=\"color: #0087ff; text-decoration-color: #0087ff\">Dropout</span>)                  │ ?                           │               <span style=\"color: #00af00; text-decoration-color: #00af00\">0</span> │\n",
       "├──────────────────────────────────────┼─────────────────────────────┼─────────────────┤\n",
       "│ lstm_5 (<span style=\"color: #0087ff; text-decoration-color: #0087ff\">LSTM</span>)                        │ ?                           │     <span style=\"color: #00af00; text-decoration-color: #00af00\">0</span> (unbuilt) │\n",
       "├──────────────────────────────────────┼─────────────────────────────┼─────────────────┤\n",
       "│ dropout_5 (<span style=\"color: #0087ff; text-decoration-color: #0087ff\">Dropout</span>)                  │ ?                           │               <span style=\"color: #00af00; text-decoration-color: #00af00\">0</span> │\n",
       "├──────────────────────────────────────┼─────────────────────────────┼─────────────────┤\n",
       "│ dense_2 (<span style=\"color: #0087ff; text-decoration-color: #0087ff\">Dense</span>)                      │ ?                           │     <span style=\"color: #00af00; text-decoration-color: #00af00\">0</span> (unbuilt) │\n",
       "└──────────────────────────────────────┴─────────────────────────────┴─────────────────┘\n",
       "</pre>\n"
      ],
      "text/plain": [
       "┏━━━━━━━━━━━━━━━━━━━━━━━━━━━━━━━━━━━━━━┳━━━━━━━━━━━━━━━━━━━━━━━━━━━━━┳━━━━━━━━━━━━━━━━━┓\n",
       "┃\u001b[1m \u001b[0m\u001b[1mLayer (type)                        \u001b[0m\u001b[1m \u001b[0m┃\u001b[1m \u001b[0m\u001b[1mOutput Shape               \u001b[0m\u001b[1m \u001b[0m┃\u001b[1m \u001b[0m\u001b[1m        Param #\u001b[0m\u001b[1m \u001b[0m┃\n",
       "┡━━━━━━━━━━━━━━━━━━━━━━━━━━━━━━━━━━━━━━╇━━━━━━━━━━━━━━━━━━━━━━━━━━━━━╇━━━━━━━━━━━━━━━━━┩\n",
       "│ embedding_2 (\u001b[38;5;33mEmbedding\u001b[0m)              │ ?                           │     \u001b[38;5;34m0\u001b[0m (unbuilt) │\n",
       "├──────────────────────────────────────┼─────────────────────────────┼─────────────────┤\n",
       "│ lstm_4 (\u001b[38;5;33mLSTM\u001b[0m)                        │ ?                           │     \u001b[38;5;34m0\u001b[0m (unbuilt) │\n",
       "├──────────────────────────────────────┼─────────────────────────────┼─────────────────┤\n",
       "│ dropout_4 (\u001b[38;5;33mDropout\u001b[0m)                  │ ?                           │               \u001b[38;5;34m0\u001b[0m │\n",
       "├──────────────────────────────────────┼─────────────────────────────┼─────────────────┤\n",
       "│ lstm_5 (\u001b[38;5;33mLSTM\u001b[0m)                        │ ?                           │     \u001b[38;5;34m0\u001b[0m (unbuilt) │\n",
       "├──────────────────────────────────────┼─────────────────────────────┼─────────────────┤\n",
       "│ dropout_5 (\u001b[38;5;33mDropout\u001b[0m)                  │ ?                           │               \u001b[38;5;34m0\u001b[0m │\n",
       "├──────────────────────────────────────┼─────────────────────────────┼─────────────────┤\n",
       "│ dense_2 (\u001b[38;5;33mDense\u001b[0m)                      │ ?                           │     \u001b[38;5;34m0\u001b[0m (unbuilt) │\n",
       "└──────────────────────────────────────┴─────────────────────────────┴─────────────────┘\n"
      ]
     },
     "metadata": {},
     "output_type": "display_data"
    },
    {
     "data": {
      "text/html": [
       "<pre style=\"white-space:pre;overflow-x:auto;line-height:normal;font-family:Menlo,'DejaVu Sans Mono',consolas,'Courier New',monospace\"><span style=\"font-weight: bold\"> Total params: </span><span style=\"color: #00af00; text-decoration-color: #00af00\">0</span> (0.00 B)\n",
       "</pre>\n"
      ],
      "text/plain": [
       "\u001b[1m Total params: \u001b[0m\u001b[38;5;34m0\u001b[0m (0.00 B)\n"
      ]
     },
     "metadata": {},
     "output_type": "display_data"
    },
    {
     "data": {
      "text/html": [
       "<pre style=\"white-space:pre;overflow-x:auto;line-height:normal;font-family:Menlo,'DejaVu Sans Mono',consolas,'Courier New',monospace\"><span style=\"font-weight: bold\"> Trainable params: </span><span style=\"color: #00af00; text-decoration-color: #00af00\">0</span> (0.00 B)\n",
       "</pre>\n"
      ],
      "text/plain": [
       "\u001b[1m Trainable params: \u001b[0m\u001b[38;5;34m0\u001b[0m (0.00 B)\n"
      ]
     },
     "metadata": {},
     "output_type": "display_data"
    },
    {
     "data": {
      "text/html": [
       "<pre style=\"white-space:pre;overflow-x:auto;line-height:normal;font-family:Menlo,'DejaVu Sans Mono',consolas,'Courier New',monospace\"><span style=\"font-weight: bold\"> Non-trainable params: </span><span style=\"color: #00af00; text-decoration-color: #00af00\">0</span> (0.00 B)\n",
       "</pre>\n"
      ],
      "text/plain": [
       "\u001b[1m Non-trainable params: \u001b[0m\u001b[38;5;34m0\u001b[0m (0.00 B)\n"
      ]
     },
     "metadata": {},
     "output_type": "display_data"
    }
   ],
   "source": [
    "model.compile(loss=\"categorical_crossentropy\",\n",
    "              optimizer=\"adam\", metrics=[\"accuracy\"]\n",
    ")\n",
    "\n",
    "model.summary()"
   ]
  },
  {
   "cell_type": "code",
   "execution_count": 18,
   "id": "79f02650-b1a9-431e-895d-806b24597ac0",
   "metadata": {},
   "outputs": [
    {
     "name": "stdout",
     "output_type": "stream",
     "text": [
      "Epoch 1/60\n"
     ]
    },
    {
     "ename": "InvalidArgumentError",
     "evalue": "Graph execution error:\n\nDetected at node sequential_1_1/lstm_2_1/while/TensorListPushBack_14 defined at (most recent call last):\n  File \"C:\\Users\\Abdulaziz\\miniconda3\\envs\\poetry_writer\\lib\\runpy.py\", line 197, in _run_module_as_main\n\n  File \"C:\\Users\\Abdulaziz\\miniconda3\\envs\\poetry_writer\\lib\\runpy.py\", line 87, in _run_code\n\n  File \"C:\\Users\\Abdulaziz\\miniconda3\\envs\\poetry_writer\\lib\\site-packages\\ipykernel_launcher.py\", line 18, in <module>\n\n  File \"C:\\Users\\Abdulaziz\\miniconda3\\envs\\poetry_writer\\lib\\site-packages\\traitlets\\config\\application.py\", line 1075, in launch_instance\n\n  File \"C:\\Users\\Abdulaziz\\miniconda3\\envs\\poetry_writer\\lib\\site-packages\\ipykernel\\kernelapp.py\", line 739, in start\n\n  File \"C:\\Users\\Abdulaziz\\miniconda3\\envs\\poetry_writer\\lib\\site-packages\\tornado\\platform\\asyncio.py\", line 211, in start\n\n  File \"C:\\Users\\Abdulaziz\\miniconda3\\envs\\poetry_writer\\lib\\asyncio\\base_events.py\", line 601, in run_forever\n\n  File \"C:\\Users\\Abdulaziz\\miniconda3\\envs\\poetry_writer\\lib\\asyncio\\base_events.py\", line 1905, in _run_once\n\n  File \"C:\\Users\\Abdulaziz\\miniconda3\\envs\\poetry_writer\\lib\\asyncio\\events.py\", line 80, in _run\n\n  File \"C:\\Users\\Abdulaziz\\miniconda3\\envs\\poetry_writer\\lib\\site-packages\\ipykernel\\kernelbase.py\", line 545, in dispatch_queue\n\n  File \"C:\\Users\\Abdulaziz\\miniconda3\\envs\\poetry_writer\\lib\\site-packages\\ipykernel\\kernelbase.py\", line 534, in process_one\n\n  File \"C:\\Users\\Abdulaziz\\miniconda3\\envs\\poetry_writer\\lib\\site-packages\\ipykernel\\kernelbase.py\", line 437, in dispatch_shell\n\n  File \"C:\\Users\\Abdulaziz\\miniconda3\\envs\\poetry_writer\\lib\\site-packages\\ipykernel\\ipkernel.py\", line 362, in execute_request\n\n  File \"C:\\Users\\Abdulaziz\\miniconda3\\envs\\poetry_writer\\lib\\site-packages\\ipykernel\\kernelbase.py\", line 778, in execute_request\n\n  File \"C:\\Users\\Abdulaziz\\miniconda3\\envs\\poetry_writer\\lib\\site-packages\\ipykernel\\ipkernel.py\", line 449, in do_execute\n\n  File \"C:\\Users\\Abdulaziz\\miniconda3\\envs\\poetry_writer\\lib\\site-packages\\ipykernel\\zmqshell.py\", line 549, in run_cell\n\n  File \"C:\\Users\\Abdulaziz\\miniconda3\\envs\\poetry_writer\\lib\\site-packages\\IPython\\core\\interactiveshell.py\", line 3048, in run_cell\n\n  File \"C:\\Users\\Abdulaziz\\miniconda3\\envs\\poetry_writer\\lib\\site-packages\\IPython\\core\\interactiveshell.py\", line 3103, in _run_cell\n\n  File \"C:\\Users\\Abdulaziz\\miniconda3\\envs\\poetry_writer\\lib\\site-packages\\IPython\\core\\async_helpers.py\", line 129, in _pseudo_sync_runner\n\n  File \"C:\\Users\\Abdulaziz\\miniconda3\\envs\\poetry_writer\\lib\\site-packages\\IPython\\core\\interactiveshell.py\", line 3308, in run_cell_async\n\n  File \"C:\\Users\\Abdulaziz\\miniconda3\\envs\\poetry_writer\\lib\\site-packages\\IPython\\core\\interactiveshell.py\", line 3490, in run_ast_nodes\n\n  File \"C:\\Users\\Abdulaziz\\miniconda3\\envs\\poetry_writer\\lib\\site-packages\\IPython\\core\\interactiveshell.py\", line 3550, in run_code\n\n  File \"C:\\Users\\Abdulaziz\\AppData\\Local\\Temp\\ipykernel_13128\\4103052508.py\", line 1, in <module>\n\n  File \"C:\\Users\\Abdulaziz\\miniconda3\\envs\\poetry_writer\\lib\\site-packages\\keras\\src\\utils\\traceback_utils.py\", line 117, in error_handler\n\n  File \"C:\\Users\\Abdulaziz\\miniconda3\\envs\\poetry_writer\\lib\\site-packages\\keras\\src\\backend\\tensorflow\\trainer.py\", line 377, in fit\n\n  File \"C:\\Users\\Abdulaziz\\miniconda3\\envs\\poetry_writer\\lib\\site-packages\\keras\\src\\backend\\tensorflow\\trainer.py\", line 220, in function\n\n  File \"C:\\Users\\Abdulaziz\\miniconda3\\envs\\poetry_writer\\lib\\site-packages\\keras\\src\\backend\\tensorflow\\trainer.py\", line 133, in multi_step_on_iterator\n\n  File \"C:\\Users\\Abdulaziz\\miniconda3\\envs\\poetry_writer\\lib\\site-packages\\keras\\src\\backend\\tensorflow\\trainer.py\", line 114, in one_step_on_data\n\n  File \"C:\\Users\\Abdulaziz\\miniconda3\\envs\\poetry_writer\\lib\\site-packages\\keras\\src\\backend\\tensorflow\\trainer.py\", line 78, in train_step\n\n  File \"C:\\Users\\Abdulaziz\\miniconda3\\envs\\poetry_writer\\lib\\site-packages\\tensorflow\\core\\function\\capture\\capture_container.py\", line 154, in capture_by_value\n\nTried to append a tensor with incompatible shape to a list. Op element shape: [0] list shape: [260,1040]\n\t [[{{node sequential_1_1/lstm_2_1/while/TensorListPushBack_14}}]] [Op:__inference_multi_step_on_iterator_5667]",
     "output_type": "error",
     "traceback": [
      "\u001b[1;31m---------------------------------------------------------------------------\u001b[0m",
      "\u001b[1;31mInvalidArgumentError\u001b[0m                      Traceback (most recent call last)",
      "Cell \u001b[1;32mIn[18], line 1\u001b[0m\n\u001b[1;32m----> 1\u001b[0m history\u001b[38;5;241m=\u001b[39m\u001b[43mmodel\u001b[49m\u001b[38;5;241;43m.\u001b[39;49m\u001b[43mfit\u001b[49m\u001b[43m(\u001b[49m\u001b[43mx\u001b[49m\u001b[43m,\u001b[49m\u001b[43my\u001b[49m\u001b[43m,\u001b[49m\u001b[43m \u001b[49m\n\u001b[0;32m      2\u001b[0m \u001b[43m                  \u001b[49m\u001b[43mbatch_size\u001b[49m\u001b[38;5;241;43m=\u001b[39;49m\u001b[43msize_of_batch\u001b[49m\u001b[43m,\u001b[49m\u001b[43m \u001b[49m\n\u001b[0;32m      3\u001b[0m \u001b[43m                  \u001b[49m\u001b[43mepochs\u001b[49m\u001b[38;5;241;43m=\u001b[39;49m\u001b[43mepoch_num\u001b[49m\u001b[43m,\u001b[49m\u001b[43m \u001b[49m\n\u001b[0;32m      4\u001b[0m \u001b[43m                  \u001b[49m\u001b[43mverbose\u001b[49m\u001b[38;5;241;43m=\u001b[39;49m\u001b[38;5;241;43m1\u001b[39;49m\u001b[43m)\u001b[49m\n\u001b[0;32m      6\u001b[0m model\u001b[38;5;241m.\u001b[39msave(\u001b[38;5;124m'\u001b[39m\u001b[38;5;124mmy_poem_writer_model.h5\u001b[39m\u001b[38;5;124m'\u001b[39m)\n\u001b[0;32m      7\u001b[0m \u001b[38;5;28mprint\u001b[39m(\u001b[38;5;124mf\u001b[39m\u001b[38;5;124m\"\u001b[39m\u001b[38;5;124mSave Location: \u001b[39m\u001b[38;5;124m'\u001b[39m\u001b[38;5;124mmy_poem_writer_model.h5\u001b[39m\u001b[38;5;124m'\u001b[39m\u001b[38;5;124m\"\u001b[39m)\n",
      "File \u001b[1;32m~\\miniconda3\\envs\\poetry_writer\\lib\\site-packages\\keras\\src\\utils\\traceback_utils.py:122\u001b[0m, in \u001b[0;36mfilter_traceback.<locals>.error_handler\u001b[1;34m(*args, **kwargs)\u001b[0m\n\u001b[0;32m    119\u001b[0m     filtered_tb \u001b[38;5;241m=\u001b[39m _process_traceback_frames(e\u001b[38;5;241m.\u001b[39m__traceback__)\n\u001b[0;32m    120\u001b[0m     \u001b[38;5;66;03m# To get the full stack trace, call:\u001b[39;00m\n\u001b[0;32m    121\u001b[0m     \u001b[38;5;66;03m# `keras.config.disable_traceback_filtering()`\u001b[39;00m\n\u001b[1;32m--> 122\u001b[0m     \u001b[38;5;28;01mraise\u001b[39;00m e\u001b[38;5;241m.\u001b[39mwith_traceback(filtered_tb) \u001b[38;5;28;01mfrom\u001b[39;00m\u001b[38;5;250m \u001b[39m\u001b[38;5;28;01mNone\u001b[39;00m\n\u001b[0;32m    123\u001b[0m \u001b[38;5;28;01mfinally\u001b[39;00m:\n\u001b[0;32m    124\u001b[0m     \u001b[38;5;28;01mdel\u001b[39;00m filtered_tb\n",
      "File \u001b[1;32m~\\miniconda3\\envs\\poetry_writer\\lib\\site-packages\\tensorflow\\python\\eager\\execute.py:53\u001b[0m, in \u001b[0;36mquick_execute\u001b[1;34m(op_name, num_outputs, inputs, attrs, ctx, name)\u001b[0m\n\u001b[0;32m     51\u001b[0m \u001b[38;5;28;01mtry\u001b[39;00m:\n\u001b[0;32m     52\u001b[0m   ctx\u001b[38;5;241m.\u001b[39mensure_initialized()\n\u001b[1;32m---> 53\u001b[0m   tensors \u001b[38;5;241m=\u001b[39m pywrap_tfe\u001b[38;5;241m.\u001b[39mTFE_Py_Execute(ctx\u001b[38;5;241m.\u001b[39m_handle, device_name, op_name,\n\u001b[0;32m     54\u001b[0m                                       inputs, attrs, num_outputs)\n\u001b[0;32m     55\u001b[0m \u001b[38;5;28;01mexcept\u001b[39;00m core\u001b[38;5;241m.\u001b[39m_NotOkStatusException \u001b[38;5;28;01mas\u001b[39;00m e:\n\u001b[0;32m     56\u001b[0m   \u001b[38;5;28;01mif\u001b[39;00m name \u001b[38;5;129;01mis\u001b[39;00m \u001b[38;5;129;01mnot\u001b[39;00m \u001b[38;5;28;01mNone\u001b[39;00m:\n",
      "\u001b[1;31mInvalidArgumentError\u001b[0m: Graph execution error:\n\nDetected at node sequential_1_1/lstm_2_1/while/TensorListPushBack_14 defined at (most recent call last):\n  File \"C:\\Users\\Abdulaziz\\miniconda3\\envs\\poetry_writer\\lib\\runpy.py\", line 197, in _run_module_as_main\n\n  File \"C:\\Users\\Abdulaziz\\miniconda3\\envs\\poetry_writer\\lib\\runpy.py\", line 87, in _run_code\n\n  File \"C:\\Users\\Abdulaziz\\miniconda3\\envs\\poetry_writer\\lib\\site-packages\\ipykernel_launcher.py\", line 18, in <module>\n\n  File \"C:\\Users\\Abdulaziz\\miniconda3\\envs\\poetry_writer\\lib\\site-packages\\traitlets\\config\\application.py\", line 1075, in launch_instance\n\n  File \"C:\\Users\\Abdulaziz\\miniconda3\\envs\\poetry_writer\\lib\\site-packages\\ipykernel\\kernelapp.py\", line 739, in start\n\n  File \"C:\\Users\\Abdulaziz\\miniconda3\\envs\\poetry_writer\\lib\\site-packages\\tornado\\platform\\asyncio.py\", line 211, in start\n\n  File \"C:\\Users\\Abdulaziz\\miniconda3\\envs\\poetry_writer\\lib\\asyncio\\base_events.py\", line 601, in run_forever\n\n  File \"C:\\Users\\Abdulaziz\\miniconda3\\envs\\poetry_writer\\lib\\asyncio\\base_events.py\", line 1905, in _run_once\n\n  File \"C:\\Users\\Abdulaziz\\miniconda3\\envs\\poetry_writer\\lib\\asyncio\\events.py\", line 80, in _run\n\n  File \"C:\\Users\\Abdulaziz\\miniconda3\\envs\\poetry_writer\\lib\\site-packages\\ipykernel\\kernelbase.py\", line 545, in dispatch_queue\n\n  File \"C:\\Users\\Abdulaziz\\miniconda3\\envs\\poetry_writer\\lib\\site-packages\\ipykernel\\kernelbase.py\", line 534, in process_one\n\n  File \"C:\\Users\\Abdulaziz\\miniconda3\\envs\\poetry_writer\\lib\\site-packages\\ipykernel\\kernelbase.py\", line 437, in dispatch_shell\n\n  File \"C:\\Users\\Abdulaziz\\miniconda3\\envs\\poetry_writer\\lib\\site-packages\\ipykernel\\ipkernel.py\", line 362, in execute_request\n\n  File \"C:\\Users\\Abdulaziz\\miniconda3\\envs\\poetry_writer\\lib\\site-packages\\ipykernel\\kernelbase.py\", line 778, in execute_request\n\n  File \"C:\\Users\\Abdulaziz\\miniconda3\\envs\\poetry_writer\\lib\\site-packages\\ipykernel\\ipkernel.py\", line 449, in do_execute\n\n  File \"C:\\Users\\Abdulaziz\\miniconda3\\envs\\poetry_writer\\lib\\site-packages\\ipykernel\\zmqshell.py\", line 549, in run_cell\n\n  File \"C:\\Users\\Abdulaziz\\miniconda3\\envs\\poetry_writer\\lib\\site-packages\\IPython\\core\\interactiveshell.py\", line 3048, in run_cell\n\n  File \"C:\\Users\\Abdulaziz\\miniconda3\\envs\\poetry_writer\\lib\\site-packages\\IPython\\core\\interactiveshell.py\", line 3103, in _run_cell\n\n  File \"C:\\Users\\Abdulaziz\\miniconda3\\envs\\poetry_writer\\lib\\site-packages\\IPython\\core\\async_helpers.py\", line 129, in _pseudo_sync_runner\n\n  File \"C:\\Users\\Abdulaziz\\miniconda3\\envs\\poetry_writer\\lib\\site-packages\\IPython\\core\\interactiveshell.py\", line 3308, in run_cell_async\n\n  File \"C:\\Users\\Abdulaziz\\miniconda3\\envs\\poetry_writer\\lib\\site-packages\\IPython\\core\\interactiveshell.py\", line 3490, in run_ast_nodes\n\n  File \"C:\\Users\\Abdulaziz\\miniconda3\\envs\\poetry_writer\\lib\\site-packages\\IPython\\core\\interactiveshell.py\", line 3550, in run_code\n\n  File \"C:\\Users\\Abdulaziz\\AppData\\Local\\Temp\\ipykernel_13128\\4103052508.py\", line 1, in <module>\n\n  File \"C:\\Users\\Abdulaziz\\miniconda3\\envs\\poetry_writer\\lib\\site-packages\\keras\\src\\utils\\traceback_utils.py\", line 117, in error_handler\n\n  File \"C:\\Users\\Abdulaziz\\miniconda3\\envs\\poetry_writer\\lib\\site-packages\\keras\\src\\backend\\tensorflow\\trainer.py\", line 377, in fit\n\n  File \"C:\\Users\\Abdulaziz\\miniconda3\\envs\\poetry_writer\\lib\\site-packages\\keras\\src\\backend\\tensorflow\\trainer.py\", line 220, in function\n\n  File \"C:\\Users\\Abdulaziz\\miniconda3\\envs\\poetry_writer\\lib\\site-packages\\keras\\src\\backend\\tensorflow\\trainer.py\", line 133, in multi_step_on_iterator\n\n  File \"C:\\Users\\Abdulaziz\\miniconda3\\envs\\poetry_writer\\lib\\site-packages\\keras\\src\\backend\\tensorflow\\trainer.py\", line 114, in one_step_on_data\n\n  File \"C:\\Users\\Abdulaziz\\miniconda3\\envs\\poetry_writer\\lib\\site-packages\\keras\\src\\backend\\tensorflow\\trainer.py\", line 78, in train_step\n\n  File \"C:\\Users\\Abdulaziz\\miniconda3\\envs\\poetry_writer\\lib\\site-packages\\tensorflow\\core\\function\\capture\\capture_container.py\", line 154, in capture_by_value\n\nTried to append a tensor with incompatible shape to a list. Op element shape: [0] list shape: [260,1040]\n\t [[{{node sequential_1_1/lstm_2_1/while/TensorListPushBack_14}}]] [Op:__inference_multi_step_on_iterator_5667]"
     ]
    }
   ],
   "source": [
    "history=model.fit(x,y, \n",
    "                  batch_size=size_of_batch, \n",
    "                  epochs=epoch_num, \n",
    "                  verbose=1)\n",
    "\n",
    "model.save('my_poem_writer_model.h5')\n",
    "print(f\"Save Location: 'my_poem_writer_model.h5'\")"
   ]
  },
  {
   "cell_type": "code",
   "execution_count": null,
   "id": "26a7cb2a-cf69-4407-ab71-5de24ca7dfb8",
   "metadata": {},
   "outputs": [],
   "source": []
  },
  {
   "cell_type": "code",
   "execution_count": null,
   "id": "718b24ac-1884-4ebf-ab96-bec76809559d",
   "metadata": {},
   "outputs": [],
   "source": []
  }
 ],
 "metadata": {
  "kernelspec": {
   "display_name": "Python 3 (ipykernel)",
   "language": "python",
   "name": "python3"
  },
  "language_info": {
   "codemirror_mode": {
    "name": "ipython",
    "version": 3
   },
   "file_extension": ".py",
   "mimetype": "text/x-python",
   "name": "python",
   "nbconvert_exporter": "python",
   "pygments_lexer": "ipython3",
   "version": "3.9.23"
  }
 },
 "nbformat": 4,
 "nbformat_minor": 5
}
